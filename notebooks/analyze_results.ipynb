{
 "cells": [
  {
   "cell_type": "code",
   "execution_count": null,
   "id": "cb213933",
   "metadata": {
    "tags": [
     "parameters"
    ]
   },
   "outputs": [],
   "source": [
    "data_process = \"data/processed\"\n",
    "data_final = \"data/final/predictions.pkl\""
   ]
  },
  {
   "cell_type": "code",
   "execution_count": null,
   "id": "a129fce7",
   "metadata": {},
   "outputs": [],
   "source": [
    "import joblib \n",
    "import pandas as pd \n",
    "from sklearn.metrics import confusion_matrix\n",
    "import joblib\n",
    "\n",
    "y_pred = joblib.load(data_process)['y_test']\n",
    "predictions = joblib.load(data_final)\n",
    "confusion_matrix(y_pred, predictions)\n"
   ]
  }
 ],
 "metadata": {
  "hide_input": false,
  "kernelspec": {
   "display_name": "test-data-science-template-9SsNPGGj-py3.9",
   "language": "python",
   "name": "python3"
  },
  "language_info": {
   "codemirror_mode": {
    "name": "ipython",
    "version": 3
   },
   "file_extension": ".py",
   "mimetype": "text/x-python",
   "name": "python",
   "nbconvert_exporter": "python",
   "pygments_lexer": "ipython3",
   "version": "3.9.12"
  },
  "toc": {
   "base_numbering": 1,
   "nav_menu": {},
   "number_sections": true,
   "sideBar": true,
   "skip_h1_title": false,
   "title_cell": "Table of Contents",
   "title_sidebar": "Contents",
   "toc_cell": false,
   "toc_position": {},
   "toc_section_display": true,
   "toc_window_display": false
  },
  "vscode": {
   "interpreter": {
    "hash": "1d1fba17d7ad6092d8d311552813da9e34085534a7d25de0383e44565bbb3ff8"
   }
  }
 },
 "nbformat": 4,
 "nbformat_minor": 5
}
